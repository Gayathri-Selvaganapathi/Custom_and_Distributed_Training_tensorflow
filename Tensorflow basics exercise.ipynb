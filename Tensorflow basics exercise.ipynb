{
 "cells": [
  {
   "cell_type": "code",
   "execution_count": 1,
   "metadata": {},
   "outputs": [
    {
     "name": "stdout",
     "output_type": "stream",
     "text": [
      "INFO:tensorflow:Enabling eager execution\n",
      "INFO:tensorflow:Enabling v2 tensorshape\n",
      "INFO:tensorflow:Enabling resource variables\n",
      "INFO:tensorflow:Enabling tensor equality\n",
      "INFO:tensorflow:Enabling control flow v2\n"
     ]
    }
   ],
   "source": [
    "import tensorflow as tf\n",
    "import numpy as np"
   ]
  },
  {
   "cell_type": "code",
   "execution_count": 2,
   "metadata": {},
   "outputs": [],
   "source": [
    "\n",
    "# Convert NumPy array to Tensor using `tf.constant`\n",
    "def tf_constant(array):\n",
    "    \"\"\"\n",
    "    Args:\n",
    "        array (numpy.ndarray): tensor-like array.\n",
    "\n",
    "    Returns:\n",
    "        tensorflow.python.framework.ops.EagerTensor: tensor.\n",
    "    \"\"\"\n",
    "    ### START CODE HERE ###\n",
    "    tf_constant_array = tf.constant(array)\n",
    "    ### END CODE HERE ###\n",
    "    return tf_constant_array"
   ]
  },
  {
   "cell_type": "code",
   "execution_count": 3,
   "metadata": {},
   "outputs": [
    {
     "ename": "NameError",
     "evalue": "name 'tmp_array' is not defined",
     "output_type": "error",
     "traceback": [
      "\u001b[1;31m---------------------------------------------------------------------------\u001b[0m",
      "\u001b[1;31mNameError\u001b[0m                                 Traceback (most recent call last)",
      "\u001b[1;32m<ipython-input-3-318512226374>\u001b[0m in \u001b[0;36m<module>\u001b[1;34m\u001b[0m\n\u001b[1;32m----> 1\u001b[1;33m \u001b[0mx\u001b[0m \u001b[1;33m=\u001b[0m \u001b[0mtf_constant\u001b[0m\u001b[1;33m(\u001b[0m\u001b[0mtmp_array\u001b[0m\u001b[1;33m)\u001b[0m\u001b[1;33m\u001b[0m\u001b[1;33m\u001b[0m\u001b[0m\n\u001b[0m\u001b[0;32m      2\u001b[0m \u001b[0mx\u001b[0m\u001b[1;33m\u001b[0m\u001b[1;33m\u001b[0m\u001b[0m\n\u001b[0;32m      3\u001b[0m \u001b[1;33m\u001b[0m\u001b[0m\n\u001b[0;32m      4\u001b[0m \u001b[1;31m# Expected output:\u001b[0m\u001b[1;33m\u001b[0m\u001b[1;33m\u001b[0m\u001b[1;33m\u001b[0m\u001b[0m\n\u001b[0;32m      5\u001b[0m \u001b[1;31m# <tf.Tensor: shape=(9,), dtype=int64, numpy=array([1, 2, 3, 4, 5, 6, 7, 8, 9])>\u001b[0m\u001b[1;33m\u001b[0m\u001b[1;33m\u001b[0m\u001b[1;33m\u001b[0m\u001b[0m\n",
      "\u001b[1;31mNameError\u001b[0m: name 'tmp_array' is not defined"
     ]
    }
   ],
   "source": [
    "x = tf_constant(tmp_array)\n",
    "x\n",
    "\n",
    "# Expected output:\n",
    "# <tf.Tensor: shape=(9,), dtype=int64, numpy=array([1, 2, 3, 4, 5, 6, 7, 8, 9])>"
   ]
  },
  {
   "cell_type": "code",
   "execution_count": 4,
   "metadata": {},
   "outputs": [],
   "source": [
    "\n",
    "# Square the input tensor\n",
    "def tf_square(array):\n",
    "    \"\"\"\n",
    "    Args:\n",
    "        array (numpy.ndarray): tensor-like array.\n",
    "\n",
    "    Returns:\n",
    "        EagerTensor: tensor.\n",
    "    \"\"\"\n",
    "    # make sure it's a tensor\n",
    "    array = tf.constant(array)\n",
    "    \n",
    "    ### START CODE HERE ###\n",
    "    tf_squared_array = tf.square(array)\n",
    "    ### END CODE HERE ###\n",
    "    return tf_squared_array"
   ]
  },
  {
   "cell_type": "code",
   "execution_count": null,
   "metadata": {},
   "outputs": [],
   "source": [
    "tmp_array = tf.constant(np.arange(1, 10))\n",
    "x = tf_square(tmp_array)\n",
    "x\n",
    "\n",
    "# Expected output:\n",
    "# <tf.Tensor: shape=(9,), dtype=int64, numpy=array([ 1,  4,  9, 16, 25, 36, 49, 64, 81])>"
   ]
  },
  {
   "cell_type": "code",
   "execution_count": null,
   "metadata": {},
   "outputs": [],
   "source": [
    "# Reshape tensor into a 3 x 3 matrix\n",
    "def tf_reshape(array, shape):\n",
    "    \"\"\"\n",
    "    Args:\n",
    "        array (EagerTensor): tensor to reshape.\n",
    "        shape (tuple): desired shape.\n",
    "\n",
    "    Returns:\n",
    "        EagerTensor: reshaped tensor.\n",
    "    \"\"\"\n",
    "    # make sure it's a tensor\n",
    "    array = tf.constant(array)\n",
    "    ### START CODE HERE ###\n",
    "    tf_reshaped_array =tf.reshape(array,shape=(3,3))\n",
    "    ### END CODE HERE ###\n",
    "    return tf_reshaped_array"
   ]
  },
  {
   "cell_type": "code",
   "execution_count": null,
   "metadata": {},
   "outputs": [],
   "source": [
    "# Check your function\n",
    "tmp_array = np.array([1,2,3,4,5,6,7,8,9])\n",
    "# Check that your function reshapes a vector into a matrix\n",
    "x = tf_reshape(tmp_array, (3, 3))\n",
    "x\n",
    "\n",
    "# Expected output:\n",
    "# <tf.Tensor: shape=(3, 3), dtype=int64, numpy=\n",
    "# [[1, 2, 3],\n",
    "# [4, 5, 6],\n",
    "# [7, 8, 9]]"
   ]
  },
  {
   "cell_type": "code",
   "execution_count": null,
   "metadata": {},
   "outputs": [],
   "source": [
    "# Cast tensor into float32 \n",
    "def tf_cast(array, dtype):\n",
    "    \"\"\"\n",
    "    Args:\n",
    "        array (EagerTensor): tensor to be casted.\n",
    "        dtype (tensorflow.python.framework.dtypes.DType): desired new type. (Should be a TF dtype!)\n",
    "\n",
    "    Returns:\n",
    "        EagerTensor: casted tensor.\n",
    "    \"\"\"\n",
    "    # make sure it's a tensor\n",
    "    array = tf.constant(array)\n",
    "\n",
    "    ### START CODE HERE ###\n",
    "    tf_cast_array = tf.cast(array,tf.uint32)\n",
    "    ### END CODE HERE ###\n",
    "    return tf_cast_array"
   ]
  },
  {
   "cell_type": "code",
   "execution_count": null,
   "metadata": {},
   "outputs": [],
   "source": [
    "# Check your function\n",
    "tmp_array = [1,2,3,4]\n",
    "x = tf_cast(tmp_array, tf.float32)\n",
    "x\n",
    "\n",
    "# Expected output:\n",
    "# <tf.Tensor: shape=(4,), dtype=float32, numpy=array([1., 2., 3., 4.], dtype=float32)>"
   ]
  },
  {
   "cell_type": "code",
   "execution_count": null,
   "metadata": {},
   "outputs": [],
   "source": [
    "# Multiply tensor1 and tensor2\n",
    "def tf_multiply(tensor1, tensor2):\n",
    "    \"\"\"\n",
    "    Args:\n",
    "        tensor1 (EagerTensor): a tensor.\n",
    "        tensor2 (EagerTensor): another tensor.\n",
    "\n",
    "    Returns:\n",
    "        EagerTensor: resulting tensor.\n",
    "    \"\"\"\n",
    "    # make sure these are tensors\n",
    "    tensor1 = tf.constant(tensor1)\n",
    "    tensor2 = tf.constant(tensor2)\n",
    "    \n",
    "    ### START CODE HERE ###\n",
    "    product = tf.multiply(tensor1,tensor2)\n",
    "    ### END CODE HERE ###\n",
    "    return product"
   ]
  },
  {
   "cell_type": "code",
   "execution_count": null,
   "metadata": {},
   "outputs": [],
   "source": [
    "# Check your function\n",
    "tmp_1 = tf.constant(np.array([[1,2],[3,4]]))\n",
    "tmp_2 = tf.constant(np.array(2))\n",
    "result = tf_multiply(tmp_1, tmp_2)\n",
    "result\n",
    "\n",
    "# Expected output:\n",
    "# <tf.Tensor: shape=(2, 2), dtype=int64, numpy=\n",
    "# array([[2, 4],\n",
    "#        [6, 8]])>"
   ]
  },
  {
   "cell_type": "code",
   "execution_count": null,
   "metadata": {},
   "outputs": [],
   "source": [
    "# Add tensor1 and tensor2\n",
    "def tf_add(tensor1, tensor2):\n",
    "    \"\"\"\n",
    "    Args:\n",
    "        tensor1 (EagerTensor): a tensor.\n",
    "        tensor2 (EagerTensor): another tensor.\n",
    "\n",
    "    Returns:\n",
    "        EagerTensor: resulting tensor.\n",
    "    \"\"\"\n",
    "    # make sure these are tensors\n",
    "    tensor1 = tf.constant(tensor1)\n",
    "    tensor2 = tf.constant(tensor2)\n",
    "    \n",
    "    ### START CODE HERE ###\n",
    "    total = tf.add(tensor1,tensor2)\n",
    "    ### END CODE HERE ###\n",
    "    return total"
   ]
  },
  {
   "cell_type": "code",
   "execution_count": null,
   "metadata": {},
   "outputs": [],
   "source": [
    "# Check your function\n",
    "tmp_1 = tf.constant(np.array([1, 2, 3]))\n",
    "tmp_2 = tf.constant(np.array([4, 5, 6]))\n",
    "tf_add(tmp_1, tmp_2)\n",
    "\n",
    "# Expected output:\n",
    "# <tf.Tensor: shape=(3,), dtype=int64, numpy=array([5, 7, 9])>"
   ]
  },
  {
   "cell_type": "code",
   "execution_count": null,
   "metadata": {},
   "outputs": [],
   "source": [
    "def tf_gradient_tape(x):\n",
    "    \"\"\"\n",
    "    Args:\n",
    "        x (EagerTensor): a tensor.\n",
    "\n",
    "    Returns:\n",
    "        EagerTensor: Derivative of z with respect to the input tensor x.\n",
    "    \"\"\"\n",
    "    with tf.GradientTape() as t:\n",
    "        \n",
    "    ### START CODE HERE ###\n",
    "        # Record the actions performed on tensor x with `watch`\n",
    "        t.watch(x)   \n",
    "\n",
    "        # Define a polynomial of form 3x^3 - 2x^2 + x\n",
    "        y = 3*x**3-2*x**2+x\n",
    "\n",
    "        # Obtain the sum of the elements in variable y\n",
    "        z = tf.reduce_sum(y)\n",
    "  \n",
    "    # Get the derivative of z with respect to the original input tensor x\n",
    "    dz_dx =t.gradient(z, x)\n",
    "    ### END CODE HERE\n",
    "    \n",
    "    return dz_dx"
   ]
  },
  {
   "cell_type": "code",
   "execution_count": null,
   "metadata": {},
   "outputs": [],
   "source": [
    "# Check your function\n",
    "tmp_x = tf.constant(2.0)\n",
    "dz_dx = tf_gradient_tape(tmp_x)\n",
    "result = dz_dx.numpy()\n",
    "result\n",
    "\n",
    "# Expected output:\n",
    "# 29.0"
   ]
  }
 ],
 "metadata": {
  "kernelspec": {
   "display_name": "Python 3",
   "language": "python",
   "name": "python3"
  },
  "language_info": {
   "codemirror_mode": {
    "name": "ipython",
    "version": 3
   },
   "file_extension": ".py",
   "mimetype": "text/x-python",
   "name": "python",
   "nbconvert_exporter": "python",
   "pygments_lexer": "ipython3",
   "version": "3.7.3"
  },
  "varInspector": {
   "cols": {
    "lenName": 16,
    "lenType": 16,
    "lenVar": 40
   },
   "kernels_config": {
    "python": {
     "delete_cmd_postfix": "",
     "delete_cmd_prefix": "del ",
     "library": "var_list.py",
     "varRefreshCmd": "print(var_dic_list())"
    },
    "r": {
     "delete_cmd_postfix": ") ",
     "delete_cmd_prefix": "rm(",
     "library": "var_list.r",
     "varRefreshCmd": "cat(var_dic_list()) "
    }
   },
   "types_to_exclude": [
    "module",
    "function",
    "builtin_function_or_method",
    "instance",
    "_Feature"
   ],
   "window_display": false
  }
 },
 "nbformat": 4,
 "nbformat_minor": 4
}
